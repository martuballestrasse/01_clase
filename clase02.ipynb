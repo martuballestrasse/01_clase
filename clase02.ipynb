{
  "nbformat": 4,
  "nbformat_minor": 0,
  "metadata": {
    "colab": {
      "provenance": [],
      "authorship_tag": "ABX9TyOmiWui7opsey5NL3HPcHEE",
      "include_colab_link": true
    },
    "kernelspec": {
      "name": "python3",
      "display_name": "Python 3"
    },
    "language_info": {
      "name": "python"
    }
  },
  "cells": [
    {
      "cell_type": "markdown",
      "metadata": {
        "id": "view-in-github",
        "colab_type": "text"
      },
      "source": [
        "<a href=\"https://colab.research.google.com/github/martuballestrasse/01_clase/blob/main/clase02.ipynb\" target=\"_parent\"><img src=\"https://colab.research.google.com/assets/colab-badge.svg\" alt=\"Open In Colab\"/></a>"
      ]
    },
    {
      "cell_type": "markdown",
      "source": [
        "#Encabezado\n",
        "---\n",
        "Tasks:\n",
        "  -almacenar texto en una variable\n",
        "  -crear un array, lista"
      ],
      "metadata": {
        "id": "UvZ0mhbTnBvr"
      }
    },
    {
      "cell_type": "code",
      "execution_count": 3,
      "metadata": {
        "id": "2kS1hspNNZCz",
        "colab": {
          "base_uri": "https://localhost:8080/"
        },
        "outputId": "9cb8fbe7-aca6-4510-ea9c-20ba7fd94527"
      },
      "outputs": [
        {
          "output_type": "execute_result",
          "data": {
            "text/plain": [
              "1000000"
            ]
          },
          "metadata": {},
          "execution_count": 3
        }
      ],
      "source": [
        "#Sumatoria hasta el numero 2_000 pero numeros impares\n",
        "\n",
        "numeros = list(range(1, 2000, 2))\n",
        "sumatoria = sum (numeros)\n",
        "sumatoria"
      ]
    },
    {
      "cell_type": "code",
      "source": [
        "import math\n",
        "import random"
      ],
      "metadata": {
        "id": "Gntz0LactWKJ"
      },
      "execution_count": 6,
      "outputs": []
    },
    {
      "cell_type": "code",
      "source": [
        "variable_iteracion = []\n",
        "\n",
        "for numero_rango in list(range(1, 100)):\n",
        "  random.random() * list(range(1, 100))\n",
        "\n",
        ""
      ],
      "metadata": {
        "colab": {
          "base_uri": "https://localhost:8080/"
        },
        "id": "OIr6OWkbuLF-",
        "outputId": "b53caa80-c711-4795-c751-e91faec1f80f"
      },
      "execution_count": 7,
      "outputs": [
        {
          "output_type": "execute_result",
          "data": {
            "text/plain": [
              "0.3526249910725355"
            ]
          },
          "metadata": {},
          "execution_count": 7
        }
      ]
    }
  ]
}